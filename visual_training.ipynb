{
 "cells": [
  {
   "cell_type": "code",
   "execution_count": null,
   "id": "bd1dfe7a",
   "metadata": {
    "vscode": {
     "languageId": "plaintext"
    }
   },
   "outputs": [],
   "source": [
    "import os\n",
    "import numpy as np\n",
    "import seaborn as sns\n",
    "import matplotlib.pyplot as plt\n",
    "import warnings\n",
    "warnings.filterwarnings('ignore')\n",
    "# Define the main folder\n",
    "main_folder = 'runs/ee'\n",
    "# Initialize data storage\n",
    "columns = [\"Train\", \"Validation\"]  # Titles for each column\n",
    "\n",
    "\n",
    "plot_data = {}\n",
    "i =1\n",
    "mid_qubits = list(range(2,5))\n",
    "for mq in mid_qubits:\n",
    "    train_data_all = {} \n",
    "    val_data_all = {}\n",
    "\n",
    "    for subfolder in os.listdir(main_folder):\n",
    "        subfolder_path = os.path.join(main_folder, subfolder)\n",
    "        for file in os.listdir(subfolder_path):\n",
    "            file_path= os.path.join(subfolder_path, file)\n",
    "            if 'loss_train' in file:\n",
    "                mq_ver=file[15]\n",
    "                if str(mq) in mq_ver:\n",
    "                    append=file[11:]\n",
    "                    train_file = os.path.join(subfolder_path, file)\n",
    "                    val_file = os.path.join(subfolder_path, f'loss_val{append}')\n",
    "                    #load losses\n",
    "                    train_data = np.load(train_file)\n",
    "                    val_data = np.load(val_file)\n",
    "                    \n",
    "                    # Collect data\n",
    "                    train_data_all[(mq,subfolder,append[-5])]=(train_data)\n",
    "                    val_data_all[(mq,subfolder,append[-5])]=(val_data)\n",
    "    if train_data_all:\n",
    "\n",
    "        fig, axs = plt.subplots(1, 2, constrained_layout=True, figsize=(18,6),sharey=True,dpi=500)\n",
    "        fig.suptitle(f'Loss from 8 to {mq}')\n",
    "        axs[0].set_ylabel(\"EM distance\")\n",
    "\n",
    "        for k,tr in train_data_all.items():\n",
    "            x=range(min(len(tr),250))\n",
    "            sns.lineplot(x=x,y=tr[:min(len(tr),250)], ax=axs[0],label=k[1]);\n",
    "            axs[0].set_title('Train')\n",
    "            l=axs[0].legend()\n",
    "            l.set_title('Batch size')\n",
    "        for k,vr in val_data_all.items():\n",
    "            x=range(min(len(vr),250))\n",
    "            l=axs[1].legend()\n",
    "            l.set_title('Batch size')\n",
    "            sns.lineplot(x=x,y=vr[:min(len(vr),250)], ax=axs[1],label=k[1]);\n",
    "            axs[1].set_title('Validation')\n",
    "            plt.xlabel(\"Epoch\")\n",
    "\n",
    "        plt.show()\n",
    "\n"
   ]
  }
 ],
 "metadata": {
  "language_info": {
   "name": "python"
  }
 },
 "nbformat": 4,
 "nbformat_minor": 5
}
